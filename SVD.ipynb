{
 "cells": [
  {
   "cell_type": "code",
   "execution_count": 31,
   "metadata": {
    "collapsed": false
   },
   "outputs": [],
   "source": [
    "import numpy as np\n",
    "import pandas as pd\n",
    "import csv\n",
    "from scipy.sparse import csc_matrix\n",
    "\n",
    "#constants defining the dimensions of our User Rating Matrix (URM)\n",
    "MAX_BID = 31 #MAX Bolt ID\n",
    "MAX_TID = 11 #MAX Termékcsoport\n",
    "K=2\n",
    "\n",
    "\n",
    "def readUrm(mit):\n",
    "\turm = np.zeros(shape=(MAX_BID,MAX_TID), dtype=np.float32)\n",
    "\twith open(mit, 'rb') as trainFile:\n",
    "\t\turmReader = csv.reader(trainFile, delimiter=';')\n",
    "\t\tfor row in urmReader:\n",
    "\t\t\turm[int(row[0]), int(row[1])] = float(row[2])\n",
    "\n",
    "\treturn csc_matrix(urm, dtype=np.float32)"
   ]
  },
  {
   "cell_type": "code",
   "execution_count": 32,
   "metadata": {
    "collapsed": false
   },
   "outputs": [],
   "source": [
    "data=readUrm('SVDTrain.csv')"
   ]
  },
  {
   "cell_type": "code",
   "execution_count": 33,
   "metadata": {
    "collapsed": false
   },
   "outputs": [
    {
     "data": {
      "text/plain": [
       "matrix([[  0.00000000e+00,   0.00000000e+00,   0.00000000e+00,\n",
       "           0.00000000e+00,   0.00000000e+00,   0.00000000e+00,\n",
       "           0.00000000e+00,   0.00000000e+00,   0.00000000e+00,\n",
       "           0.00000000e+00,   0.00000000e+00],\n",
       "        [  0.00000000e+00,   1.66000000e+04,   2.69000000e+04,\n",
       "           7.40000000e+03,   1.30000000e+03,   6.78000000e+04,\n",
       "           9.00000000e+03,   4.03000000e+04,   2.40000000e+04,\n",
       "           8.00000000e+03,   2.41800000e+05],\n",
       "        [  0.00000000e+00,   4.73000000e+04,   6.68000000e+04,\n",
       "           3.47000000e+04,   8.20000000e+03,   2.37500000e+05,\n",
       "           4.26000000e+04,   1.60900000e+05,   2.92000000e+04,\n",
       "           3.60000000e+04,   4.56100000e+05],\n",
       "        [  0.00000000e+00,   3.17000000e+04,   6.60000000e+03,\n",
       "           2.70000000e+03,   0.00000000e+00,   4.94000000e+04,\n",
       "           5.50000000e+03,   2.21000000e+04,   0.00000000e+00,\n",
       "           0.00000000e+00,   0.00000000e+00],\n",
       "        [  0.00000000e+00,   0.00000000e+00,   5.30000000e+03,\n",
       "           0.00000000e+00,   0.00000000e+00,   1.38000000e+04,\n",
       "           6.00000000e+02,   1.95000000e+04,   1.08000000e+04,\n",
       "           4.00000000e+02,   3.40000000e+04],\n",
       "        [  0.00000000e+00,   6.00000000e+03,   2.12000000e+04,\n",
       "           1.60000000e+03,   6.00000000e+02,   1.88000000e+04,\n",
       "           4.00000000e+02,   2.15000000e+04,   9.50000000e+03,\n",
       "           2.70000000e+03,   1.68100000e+05],\n",
       "        [  0.00000000e+00,   1.32000000e+04,   5.10000000e+03,\n",
       "           1.40000000e+03,   0.00000000e+00,   1.39000000e+04,\n",
       "           1.05000000e+04,   2.85000000e+04,   7.80000000e+03,\n",
       "           7.00000000e+02,   2.51000000e+04],\n",
       "        [  0.00000000e+00,   1.48000000e+04,   1.83000000e+04,\n",
       "           5.00000000e+03,   0.00000000e+00,   4.63000000e+04,\n",
       "           1.80000000e+03,   3.75000000e+04,   1.59000000e+04,\n",
       "           1.33000000e+04,   1.03300000e+05],\n",
       "        [  0.00000000e+00,   2.90000000e+03,   3.31000000e+04,\n",
       "           4.80000000e+03,   2.40000000e+03,   5.05000000e+04,\n",
       "           6.70000000e+03,   3.31000000e+04,   2.50000000e+04,\n",
       "           8.50000000e+03,   1.13200000e+05],\n",
       "        [  0.00000000e+00,  -4.00000000e+02,   2.87000000e+04,\n",
       "           0.00000000e+00,   1.10000000e+03,   6.10000000e+04,\n",
       "           1.50000000e+04,   4.93000000e+04,   9.60000000e+03,\n",
       "           3.30000000e+03,  -5.72000000e+04],\n",
       "        [  0.00000000e+00,   2.60000000e+03,   1.35000000e+04,\n",
       "           1.01000000e+04,   8.00000000e+02,   3.94000000e+04,\n",
       "          -6.00000000e+02,   2.93000000e+04,   2.08000000e+04,\n",
       "           7.10000000e+03,   3.93000000e+04],\n",
       "        [  0.00000000e+00,   5.00000000e+03,   2.50000000e+03,\n",
       "          -5.00000000e+02,   0.00000000e+00,   7.00000000e+03,\n",
       "           1.20000000e+03,   2.10000000e+04,   1.26000000e+04,\n",
       "           6.00000000e+02,   2.58000000e+04],\n",
       "        [  0.00000000e+00,   9.60000000e+03,   1.96000000e+04,\n",
       "           5.00000000e+02,   0.00000000e+00,   4.18000000e+04,\n",
       "           1.40000000e+03,   1.27000000e+04,   9.00000000e+03,\n",
       "           1.20000000e+03,   5.17000000e+04],\n",
       "        [  0.00000000e+00,   4.68000000e+04,   2.24000000e+05,\n",
       "           5.32000000e+04,   3.99000000e+04,   2.22000000e+05,\n",
       "           1.76000000e+04,   9.14000000e+04,   1.44000000e+04,\n",
       "           1.25800000e+05,   6.60900000e+05],\n",
       "        [  0.00000000e+00,   5.20000000e+03,   2.70000000e+03,\n",
       "           0.00000000e+00,   6.00000000e+02,   1.52000000e+04,\n",
       "           1.20000000e+03,   1.71000000e+04,   5.90000000e+03,\n",
       "           2.00000000e+03,   5.24000000e+04],\n",
       "        [  0.00000000e+00,   2.02000000e+04,   2.90000000e+03,\n",
       "           0.00000000e+00,   0.00000000e+00,   1.28000000e+04,\n",
       "           1.20000000e+03,   1.65000000e+04,   1.07000000e+04,\n",
       "           1.10000000e+03,   1.57000000e+04],\n",
       "        [  0.00000000e+00,   7.30000000e+03,   2.30000000e+04,\n",
       "          -6.00000000e+02,   4.00000000e+02,   3.83000000e+04,\n",
       "           1.50000000e+04,   2.85000000e+04,   1.73000000e+04,\n",
       "           9.50000000e+03,   6.27000000e+04],\n",
       "        [  0.00000000e+00,   1.56000000e+04,   1.22000000e+04,\n",
       "           4.60000000e+03,   1.70000000e+03,   4.29000000e+04,\n",
       "           1.07000000e+04,   4.29000000e+04,   1.17000000e+04,\n",
       "           1.13000000e+04,   1.75800000e+05],\n",
       "        [  0.00000000e+00,   9.10000000e+03,   4.13000000e+04,\n",
       "           2.60000000e+03,   2.90000000e+03,   7.06000000e+04,\n",
       "           2.10000000e+04,   1.52000000e+04,   1.25000000e+04,\n",
       "           1.63000000e+04,   9.86000000e+04],\n",
       "        [  0.00000000e+00,   0.00000000e+00,   3.30000000e+03,\n",
       "           0.00000000e+00,   0.00000000e+00,   1.60000000e+03,\n",
       "           0.00000000e+00,   1.83000000e+04,   5.90000000e+03,\n",
       "           5.00000000e+02,   6.50000000e+03],\n",
       "        [  0.00000000e+00,   7.40000000e+04,   6.97000000e+04,\n",
       "           2.00000000e+02,   9.70000000e+03,   1.19300000e+05,\n",
       "           2.49000000e+04,   1.11100000e+05,   3.32000000e+04,\n",
       "           2.99000000e+04,   1.25420000e+06],\n",
       "        [  0.00000000e+00,   1.88000000e+04,   1.01000000e+04,\n",
       "           2.30000000e+03,   1.30000000e+03,   2.88000000e+04,\n",
       "           1.20000000e+03,   2.26000000e+04,   1.39000000e+04,\n",
       "           5.20000000e+03,   2.49000000e+04],\n",
       "        [  0.00000000e+00,   7.70000000e+03,   2.57000000e+04,\n",
       "          -5.00000000e+03,   3.60000000e+03,   6.29000000e+04,\n",
       "           9.00000000e+03,   3.82000000e+04,   1.86000000e+04,\n",
       "           4.00000000e+02,   1.16500000e+05],\n",
       "        [  0.00000000e+00,   1.30000000e+03,   8.60000000e+03,\n",
       "           0.00000000e+00,   6.00000000e+02,   2.33000000e+04,\n",
       "           6.00000000e+03,   2.32000000e+04,   8.00000000e+03,\n",
       "           6.80000000e+03,   4.42000000e+04],\n",
       "        [  0.00000000e+00,   4.50000000e+03,   6.00000000e+03,\n",
       "           6.90000000e+03,   1.80000000e+03,   4.90000000e+03,\n",
       "           3.11000000e+04,  -1.50000000e+03,   9.90000000e+03,\n",
       "           8.20000000e+03,   6.74000000e+04],\n",
       "        [  0.00000000e+00,   2.43000000e+04,   1.28000000e+04,\n",
       "           5.00000000e+02,   1.20000000e+03,   1.74000000e+04,\n",
       "           6.00000000e+02,   1.09000000e+04,   1.90000000e+04,\n",
       "           5.00000000e+02,   4.93000000e+04],\n",
       "        [  0.00000000e+00,   9.00000000e+03,   3.34000000e+04,\n",
       "           0.00000000e+00,   1.50000000e+03,   3.39000000e+04,\n",
       "          -1.80000000e+03,   1.83000000e+04,   1.12000000e+04,\n",
       "           1.19000000e+04,   9.70000000e+04],\n",
       "        [  0.00000000e+00,   6.20000000e+03,  -3.00000000e+02,\n",
       "          -1.80000000e+03,   6.00000000e+02,   2.44000000e+04,\n",
       "           6.50000000e+03,   1.51000000e+04,   1.14000000e+04,\n",
       "           1.30000000e+03,   5.40000000e+04],\n",
       "        [  0.00000000e+00,   6.50000000e+03,   1.54000000e+04,\n",
       "           5.10000000e+03,   0.00000000e+00,   3.44000000e+04,\n",
       "           1.84000000e+04,   2.80000000e+04,   7.80000000e+03,\n",
       "           9.10000000e+03,   9.84000000e+04],\n",
       "        [  0.00000000e+00,   1.09000000e+04,   8.40000000e+03,\n",
       "           1.50000000e+03,   0.00000000e+00,   1.75000000e+04,\n",
       "           1.24000000e+04,   3.44000000e+04,   1.18000000e+04,\n",
       "           2.60000000e+03,   6.54000000e+04],\n",
       "        [  0.00000000e+00,   1.92000000e+04,   2.36000000e+04,\n",
       "           5.00000000e+03,   2.30000000e+03,   5.69000000e+04,\n",
       "           2.13000000e+04,   0.00000000e+00,   0.00000000e+00,\n",
       "           0.00000000e+00,   4.24900000e+05]], dtype=float32)"
      ]
     },
     "execution_count": 33,
     "metadata": {},
     "output_type": "execute_result"
    }
   ],
   "source": [
    "data.todense()"
   ]
  },
  {
   "cell_type": "code",
   "execution_count": 34,
   "metadata": {
    "collapsed": false
   },
   "outputs": [],
   "source": [
    "def readUsersTest():\n",
    "\tuTest = dict()\n",
    "\twith open(\"SVDBoltok.csv\", 'rb') as testFile:\n",
    "\t\ttestReader = csv.reader(testFile, delimiter=';')\n",
    "\t\ti=0\n",
    "\t\tfor row in testReader:\n",
    "\t\t\tuTest[int(row[0])] = list()\n",
    "\n",
    "\treturn uTest"
   ]
  },
  {
   "cell_type": "code",
   "execution_count": 35,
   "metadata": {
    "collapsed": true
   },
   "outputs": [],
   "source": [
    "def getMoviesSeen():\n",
    "\tmoviesSeen = dict()\n",
    "\twith open(\"SVDTrain.csv\", 'rb') as trainFile:\n",
    "\t\turmReader = csv.reader(trainFile, delimiter=';')\n",
    "\t\tfor row in urmReader:\n",
    "\t\t\ttry:\n",
    "\t\t\t\tmoviesSeen[int(row[0])].append(int(row[1]))\n",
    "\t\t\texcept:\n",
    "\t\t\t\tmoviesSeen[int(row[0])] = list()\n",
    "\t\t\t\tmoviesSeen[int(row[0])].append(int(row[1]))\n",
    "\n",
    "\treturn moviesSeen"
   ]
  },
  {
   "cell_type": "code",
   "execution_count": 36,
   "metadata": {
    "collapsed": false
   },
   "outputs": [],
   "source": [
    "import math as mt\n",
    "import csv\n",
    "from sparsesvd import sparsesvd\n",
    "\n",
    "def computeSVD(urm, K):\n",
    "\tU, s, Vt = sparsesvd(urm, K)\n",
    "\n",
    "\tdim = (len(s), len(s))\n",
    "\tS = np.zeros(dim, dtype=np.float32)\n",
    "\tfor i in range(0, len(s)):\n",
    "\t\tS[i,i] = mt.sqrt(s[i])\n",
    "\n",
    "\tU = csc_matrix(np.transpose(U), dtype=np.float32)\n",
    "\tS = csc_matrix(S, dtype=np.float32)\n",
    "\tVt = csc_matrix(Vt, dtype=np.float32)\n",
    "\n",
    "\treturn U, S, Vt\t"
   ]
  },
  {
   "cell_type": "code",
   "execution_count": 37,
   "metadata": {
    "collapsed": false
   },
   "outputs": [],
   "source": [
    "from scipy.sparse.linalg import * #used for matrix multiplication\n",
    "\n",
    "def computeEstimatedRatings2(urm, U, S, Vt, uTest, moviesSeen, K, test):\n",
    "\trightTerm = S*Vt \n",
    "\n",
    "\testimatedRatings = np.zeros(shape=(MAX_BID, MAX_TID), dtype=np.float16)\n",
    "\tfor userTest in uTest:\n",
    "\t\tprod = U[userTest, :]*rightTerm\n",
    "\n",
    "\t\t#we convert the vector to dense format in order to get the indices of the movies with the best estimated ratings \n",
    "\t\testimatedRatings[userTest, :] = prod.todense()\n",
    "\t\trecom = (-estimatedRatings[userTest, :]).argsort()\n",
    "\t\tfor r in recom:\n",
    "\t\t\tif r not in moviesSeen[userTest]:\n",
    "\t\t\t\tuTest[userTest].append(r)\n",
    "\n",
    "\n",
    "\treturn uTest"
   ]
  },
  {
   "cell_type": "code",
   "execution_count": 38,
   "metadata": {
    "collapsed": true
   },
   "outputs": [],
   "source": [
    "from scipy.sparse.linalg import * #used for matrix multiplication\n",
    "\n",
    "def computeEstimatedRatings(urm, U, S, Vt, uTest, moviesSeen, K, test):\n",
    "\trightTerm = S*Vt \n",
    "\n",
    "\testimatedRatings = np.zeros(shape=(MAX_BID, MAX_TID), dtype=np.float16)\n",
    "\tfor userTest in uTest:\n",
    "\t\tprod = U[userTest, :]*rightTerm\n",
    "\n",
    "\t\t#we convert the vector to dense format in order to get the indices of the movies with the best estimated ratings \n",
    "\t\testimatedRatings[userTest, :] = prod.todense()\n",
    "\t\trecom = (-estimatedRatings[userTest, :])\n",
    "\t\tfor r in recom:\n",
    "\t\t\tif r not in moviesSeen[userTest]:\n",
    "\t\t\t\tuTest[userTest].append(r)\n",
    "\n",
    "\treturn uTest"
   ]
  },
  {
   "cell_type": "code",
   "execution_count": 71,
   "metadata": {
    "collapsed": false,
    "scrolled": true
   },
   "outputs": [],
   "source": [
    "def main():\n",
    "    #értékek\n",
    "    K = 20\n",
    "    urm = readUrm('SVDTrain.csv')\n",
    "    U, S, Vt = computeSVD(urm,K)\n",
    "    uTest = readUsersTest()\n",
    "    moviesSeen = getMoviesSeen()\n",
    "    uTest = computeEstimatedRatings(urm, U, S, Vt, uTest, moviesSeen, K, True)\n",
    "    #indexek\n",
    "    Ux, Sx, Vtx = computeSVD(urm,K)\n",
    "    uTestx = readUsersTest()\n",
    "    moviesSeen = getMoviesSeen()\n",
    "    uTestx = computeEstimatedRatings2(urm, Ux, Sx, Vtx, uTestx, moviesSeen, K, True)\n",
    "    \n",
    "    teljes=pd.read_excel(\"csoportNOTnorm.xlsx\").as_matrix()\n",
    "    \n",
    "    for key in uTest.keys():\n",
    "        for i in uTestx[key]:\n",
    "            if(i!=0):\n",
    "                print(\"Bolt: %d , Termék család:%d érték:%.2f eredeti:%d\" % (key,i,uTest[key][i],teljes[key-1][i-1]))"
   ]
  },
  {
   "cell_type": "code",
   "execution_count": 72,
   "metadata": {
    "collapsed": false
   },
   "outputs": [
    {
     "name": "stdout",
     "output_type": "stream",
     "text": [
      "[[  16600   26900    7400    1300   67800    9000   40300   24000    8000\n",
      "   241800]\n",
      " [  47300   66800   34700    8200  237500   42600  160900   29200   36000\n",
      "   456100]\n",
      " [  31700    6600    2700       0   49400    5500   22100   13400    3300\n",
      "   487300]\n",
      " [   3300    5300       0       0   13800     600   19500   10800     400\n",
      "    34000]\n",
      " [   6000   21200    1600     600   18800     400   21500    9500    2700\n",
      "   168100]\n",
      " [  13200    5100    1400       0   13900   10500   28500    7800     700\n",
      "    25100]\n",
      " [  14800   18300    5000       0   46300    1800   37500   15900   13300\n",
      "   103300]\n",
      " [   2900   33100    4800    2400   50500    6700   33100   25000    8500\n",
      "   113200]\n",
      " [   -400   28700       0    1100   61000   15000   49300    9600    3300\n",
      "   -57200]\n",
      " [   2600   13500   10100     800   39400    -600   29300   20800    7100\n",
      "    39300]\n",
      " [   5000    2500    -500       0    7000    1200   21000   12600     600\n",
      "    25800]\n",
      " [   9600   19600     500       0   41800    1400   12700    9000    1200\n",
      "    51700]\n",
      " [  46800  224000   53200   39900  222000   17600   91400   14400  125800\n",
      "   660900]\n",
      " [   5200    2700       0     600   15200    1200   17100    5900    2000\n",
      "    52400]\n",
      " [  20200    2900       0       0   12800    1200   16500   10700    1100\n",
      "    15700]\n",
      " [   7300   23000    -600     400   38300   15000   28500   17300    9500\n",
      "    62700]\n",
      " [  15600   12200    4600    1700   42900   10700   42900   11700   11300\n",
      "   175800]\n",
      " [   9100   41300    2600    2900   70600   21000   15200   12500   16300\n",
      "    98600]\n",
      " [      0    3300       0       0    1600       0   18300    5900     500\n",
      "     6500]\n",
      " [  74000   69700     200    9700  119300   24900  111100   33200   29900\n",
      "  1254200]\n",
      " [  18800   10100    2300    1300   28800    1200   22600   13900    5200\n",
      "    24900]\n",
      " [   7700   25700   -5000    3600   62900    9000   38200   18600     400\n",
      "   116500]\n",
      " [   1300    8600       0     600   23300    6000   23200    8000    6800\n",
      "    44200]\n",
      " [   4500    6000    6900    1800    4900   31100   -1500    9900    8200\n",
      "    67400]\n",
      " [  24300   12800     500    1200   17400     600   10900   19000     500\n",
      "    49300]\n",
      " [   9000   33400       0    1500   33900   -1800   18300   11200   11900\n",
      "    97000]\n",
      " [   6200    -300   -1800     600   24400    6500   15100   11400    1300\n",
      "    54000]\n",
      " [   6500   15400    5100       0   34400   18400   28000    7800    9100\n",
      "    98400]\n",
      " [  10900    8400    1500       0   17500   12400   34400   11800    2600\n",
      "    65400]\n",
      " [  19200   23600    5000    2300   56900   21300   36800   13300   18000\n",
      "   424900]]\n",
      "Bolt: 3 , Termék család:10 érték:17.31 eredeti:487300\n",
      "Bolt: 3 , Termék család:9 érték:18.09 eredeti:3300\n",
      "Bolt: 3 , Termék család:8 érték:26.62 eredeti:13400\n",
      "Bolt: 4 , Termék család:1 érték:16.23 eredeti:3300\n",
      "Bolt: 30 , Termék család:8 érték:30.12 eredeti:13300\n",
      "Bolt: 30 , Termék család:9 érték:67.62 eredeti:18000\n",
      "Bolt: 30 , Termék család:7 érték:111.75 eredeti:36800\n"
     ]
    }
   ],
   "source": [
    "main()"
   ]
  },
  {
   "cell_type": "code",
   "execution_count": null,
   "metadata": {
    "collapsed": true
   },
   "outputs": [],
   "source": []
  }
 ],
 "metadata": {
  "kernelspec": {
   "display_name": "Python 2",
   "language": "python",
   "name": "python2"
  },
  "language_info": {
   "codemirror_mode": {
    "name": "ipython",
    "version": 2
   },
   "file_extension": ".py",
   "mimetype": "text/x-python",
   "name": "python",
   "nbconvert_exporter": "python",
   "pygments_lexer": "ipython2",
   "version": "2.7.11"
  }
 },
 "nbformat": 4,
 "nbformat_minor": 0
}
