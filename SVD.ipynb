{
 "cells": [
  {
   "cell_type": "code",
   "execution_count": 71,
   "metadata": {
    "collapsed": false
   },
   "outputs": [],
   "source": [
    "import numpy, scipy.sparse\n",
    "import pandas as pd\n",
    "import numpy as np\n",
    "import math as mt\n",
    "import csv\n",
    "\n",
    "\n",
    "\n",
    "olvas = pd.read_excel(\"csoportNOTnorm.xlsx\")\n",
    "\n",
    "MAX_BID = 30\n",
    "MAX_TID = 30\n",
    "K=5"
   ]
  },
  {
   "cell_type": "code",
   "execution_count": 81,
   "metadata": {
    "collapsed": false
   },
   "outputs": [],
   "source": [
    "from scipy.sparse import csc_matrix\n",
    "\n",
    "data=csc_matrix(olvas, dtype=np.float32)"
   ]
  },
  {
   "cell_type": "code",
   "execution_count": 82,
   "metadata": {
    "collapsed": false
   },
   "outputs": [
    {
     "data": {
      "text/plain": [
       "<30x10 sparse matrix of type '<type 'numpy.float32'>'\n",
       "\twith 281 stored elements in Compressed Sparse Column format>"
      ]
     },
     "execution_count": 82,
     "metadata": {},
     "output_type": "execute_result"
    }
   ],
   "source": [
    "data"
   ]
  },
  {
   "cell_type": "code",
   "execution_count": 88,
   "metadata": {
    "collapsed": false
   },
   "outputs": [],
   "source": [
    "from sparsesvd import sparsesvd\n",
    "\n",
    "U, s, Vt = sparsesvd(data, K)\n",
    "dim = (len(s), len(s))\n",
    "S = np.zeros(dim, dtype=np.float32)\n",
    "for i in range(0, len(s)):\n",
    "\tS[i,i] = mt.sqrt(s[i])\n",
    "\n",
    "U = csr_matrix(np.transpose(U), dtype=np.float32)\n",
    "S = csr_matrix(S, dtype=np.float32)\n",
    "Vt = csr_matrix(Vt, dtype=np.float32)"
   ]
  },
  {
   "cell_type": "code",
   "execution_count": null,
   "metadata": {
    "collapsed": false
   },
   "outputs": [],
   "source": []
  }
 ],
 "metadata": {
  "kernelspec": {
   "display_name": "Python 2",
   "language": "python",
   "name": "python2"
  },
  "language_info": {
   "codemirror_mode": {
    "name": "ipython",
    "version": 2
   },
   "file_extension": ".py",
   "mimetype": "text/x-python",
   "name": "python",
   "nbconvert_exporter": "python",
   "pygments_lexer": "ipython2",
   "version": "2.7.11"
  }
 },
 "nbformat": 4,
 "nbformat_minor": 0
}
