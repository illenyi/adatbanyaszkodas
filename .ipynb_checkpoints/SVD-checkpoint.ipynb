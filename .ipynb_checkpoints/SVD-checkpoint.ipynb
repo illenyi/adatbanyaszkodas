{
 "cells": [
  {
   "cell_type": "code",
   "execution_count": 206,
   "metadata": {
    "collapsed": false
   },
   "outputs": [],
   "source": [
    "import numpy as np\n",
    "import csv\n",
    "from scipy.sparse import csr_matrix\n",
    "\n",
    "#constants defining the dimensions of our User Rating Matrix (URM)\n",
    "MAX_BID = 31 #MAX Bolt ID\n",
    "MAX_TID = 11 #MAX Termékcsoport\n",
    "K=90\n",
    "Recom\n",
    "Est=0\n",
    "\n",
    "\n",
    "def readUrm():\n",
    "\turm = np.zeros(shape=(MAX_BID,MAX_TID), dtype=np.float32)\n",
    "\twith open('SVDTrain.csv', 'rb') as trainFile:\n",
    "\t\turmReader = csv.reader(trainFile, delimiter=';')\n",
    "\t\tfor row in urmReader:\n",
    "\t\t\turm[int(row[0]), int(row[1])] = float(row[2])\n",
    "\n",
    "\treturn csc_matrix(urm, dtype=np.float32)"
   ]
  },
  {
   "cell_type": "code",
   "execution_count": 207,
   "metadata": {
    "collapsed": false
   },
   "outputs": [],
   "source": [
    "data=readUrm()"
   ]
  },
  {
   "cell_type": "code",
   "execution_count": 208,
   "metadata": {
    "collapsed": false
   },
   "outputs": [
    {
     "data": {
      "text/plain": [
       "matrix([[  0.00000000e+00,   0.00000000e+00,   0.00000000e+00,\n",
       "           0.00000000e+00,   0.00000000e+00,   0.00000000e+00,\n",
       "           0.00000000e+00,   0.00000000e+00,   0.00000000e+00,\n",
       "           0.00000000e+00,   0.00000000e+00],\n",
       "        [  0.00000000e+00,   1.66000000e+04,   2.69000000e+04,\n",
       "           7.40000000e+03,   1.30000000e+03,   6.78000000e+04,\n",
       "           9.00000000e+03,   4.03000000e+04,   2.40000000e+04,\n",
       "           8.00000000e+03,   2.41800000e+05],\n",
       "        [  0.00000000e+00,   4.73000000e+04,   6.68000000e+04,\n",
       "           3.47000000e+04,   8.20000000e+03,   2.37500000e+05,\n",
       "           4.26000000e+04,   1.60900000e+05,   2.92000000e+04,\n",
       "           3.60000000e+04,   4.56100000e+05],\n",
       "        [  0.00000000e+00,   3.17000000e+04,   6.60000000e+03,\n",
       "           2.70000000e+03,   0.00000000e+00,   4.94000000e+04,\n",
       "           5.50000000e+03,   2.21000000e+04,   1.34000000e+04,\n",
       "           3.30000000e+03,   4.87300000e+05],\n",
       "        [  0.00000000e+00,   3.30000000e+03,   5.30000000e+03,\n",
       "           0.00000000e+00,   0.00000000e+00,   1.38000000e+04,\n",
       "           6.00000000e+02,   1.95000000e+04,   1.08000000e+04,\n",
       "           4.00000000e+02,   3.40000000e+04],\n",
       "        [  0.00000000e+00,   6.00000000e+03,   2.12000000e+04,\n",
       "           1.60000000e+03,   6.00000000e+02,   1.88000000e+04,\n",
       "           4.00000000e+02,   2.15000000e+04,   9.50000000e+03,\n",
       "           2.70000000e+03,   1.68100000e+05],\n",
       "        [  0.00000000e+00,   1.32000000e+04,   5.10000000e+03,\n",
       "           1.40000000e+03,   0.00000000e+00,   1.39000000e+04,\n",
       "           1.05000000e+04,   2.85000000e+04,   7.80000000e+03,\n",
       "           7.00000000e+02,   2.51000000e+04],\n",
       "        [  0.00000000e+00,   1.48000000e+04,   1.83000000e+04,\n",
       "           5.00000000e+03,   0.00000000e+00,   4.63000000e+04,\n",
       "           1.80000000e+03,   3.75000000e+04,   1.59000000e+04,\n",
       "           1.33000000e+04,   1.03300000e+05],\n",
       "        [  0.00000000e+00,   2.90000000e+03,   3.31000000e+04,\n",
       "           4.80000000e+03,   2.40000000e+03,   5.05000000e+04,\n",
       "           6.70000000e+03,   3.31000000e+04,   2.50000000e+04,\n",
       "           8.50000000e+03,   1.13200000e+05],\n",
       "        [  0.00000000e+00,  -4.00000000e+02,   2.87000000e+04,\n",
       "           0.00000000e+00,   1.10000000e+03,   6.10000000e+04,\n",
       "           1.50000000e+04,   4.93000000e+04,   9.60000000e+03,\n",
       "           3.30000000e+03,  -5.72000000e+04],\n",
       "        [  0.00000000e+00,   2.60000000e+03,   1.35000000e+04,\n",
       "           1.01000000e+04,   8.00000000e+02,   3.94000000e+04,\n",
       "          -6.00000000e+02,   2.93000000e+04,   2.08000000e+04,\n",
       "           7.10000000e+03,   3.93000000e+04],\n",
       "        [  0.00000000e+00,   5.00000000e+03,   2.50000000e+03,\n",
       "          -5.00000000e+02,   0.00000000e+00,   7.00000000e+03,\n",
       "           1.20000000e+03,   2.10000000e+04,   1.26000000e+04,\n",
       "           6.00000000e+02,   2.58000000e+04],\n",
       "        [  0.00000000e+00,   9.60000000e+03,   1.96000000e+04,\n",
       "           5.00000000e+02,   0.00000000e+00,   4.18000000e+04,\n",
       "           1.40000000e+03,   1.27000000e+04,   9.00000000e+03,\n",
       "           1.20000000e+03,   5.17000000e+04],\n",
       "        [  0.00000000e+00,   4.68000000e+04,   2.24000000e+05,\n",
       "           5.32000000e+04,   3.99000000e+04,   2.22000000e+05,\n",
       "           1.76000000e+04,   9.14000000e+04,   1.44000000e+04,\n",
       "           1.25800000e+05,   6.60900000e+05],\n",
       "        [  0.00000000e+00,   5.20000000e+03,   2.70000000e+03,\n",
       "           0.00000000e+00,   6.00000000e+02,   1.52000000e+04,\n",
       "           1.20000000e+03,   1.71000000e+04,   5.90000000e+03,\n",
       "           2.00000000e+03,   5.24000000e+04],\n",
       "        [  0.00000000e+00,   2.02000000e+04,   2.90000000e+03,\n",
       "           0.00000000e+00,   0.00000000e+00,   1.28000000e+04,\n",
       "           1.20000000e+03,   1.65000000e+04,   1.07000000e+04,\n",
       "           1.10000000e+03,   1.57000000e+04],\n",
       "        [  0.00000000e+00,   7.30000000e+03,   2.30000000e+04,\n",
       "          -6.00000000e+02,   4.00000000e+02,   3.83000000e+04,\n",
       "           1.50000000e+04,   2.85000000e+04,   1.73000000e+04,\n",
       "           9.50000000e+03,   6.27000000e+04],\n",
       "        [  0.00000000e+00,   1.56000000e+04,   1.22000000e+04,\n",
       "           4.60000000e+03,   1.70000000e+03,   4.29000000e+04,\n",
       "           1.07000000e+04,   4.29000000e+04,   1.17000000e+04,\n",
       "           1.13000000e+04,   1.75800000e+05],\n",
       "        [  0.00000000e+00,   9.10000000e+03,   4.13000000e+04,\n",
       "           2.60000000e+03,   2.90000000e+03,   7.06000000e+04,\n",
       "           2.10000000e+04,   1.52000000e+04,   1.25000000e+04,\n",
       "           1.63000000e+04,   9.86000000e+04],\n",
       "        [  0.00000000e+00,   0.00000000e+00,   3.30000000e+03,\n",
       "           0.00000000e+00,   0.00000000e+00,   1.60000000e+03,\n",
       "           0.00000000e+00,   1.83000000e+04,   5.90000000e+03,\n",
       "           5.00000000e+02,   6.50000000e+03],\n",
       "        [  0.00000000e+00,   7.40000000e+04,   6.97000000e+04,\n",
       "           2.00000000e+02,   9.70000000e+03,   1.19300000e+05,\n",
       "           2.49000000e+04,   1.11100000e+05,   3.32000000e+04,\n",
       "           2.99000000e+04,   1.25420000e+06],\n",
       "        [  0.00000000e+00,   1.88000000e+04,   1.01000000e+04,\n",
       "           2.30000000e+03,   1.30000000e+03,   2.88000000e+04,\n",
       "           1.20000000e+03,   2.26000000e+04,   1.39000000e+04,\n",
       "           5.20000000e+03,   2.49000000e+04],\n",
       "        [  0.00000000e+00,   7.70000000e+03,   2.57000000e+04,\n",
       "          -5.00000000e+03,   3.60000000e+03,   6.29000000e+04,\n",
       "           9.00000000e+03,   3.82000000e+04,   1.86000000e+04,\n",
       "           4.00000000e+02,   1.16500000e+05],\n",
       "        [  0.00000000e+00,   1.30000000e+03,   8.60000000e+03,\n",
       "           0.00000000e+00,   6.00000000e+02,   2.33000000e+04,\n",
       "           6.00000000e+03,   2.32000000e+04,   8.00000000e+03,\n",
       "           6.80000000e+03,   4.42000000e+04],\n",
       "        [  0.00000000e+00,   4.50000000e+03,   6.00000000e+03,\n",
       "           6.90000000e+03,   1.80000000e+03,   4.90000000e+03,\n",
       "           3.11000000e+04,  -1.50000000e+03,   9.90000000e+03,\n",
       "           8.20000000e+03,   6.74000000e+04],\n",
       "        [  0.00000000e+00,   2.43000000e+04,   1.28000000e+04,\n",
       "           5.00000000e+02,   1.20000000e+03,   1.74000000e+04,\n",
       "           6.00000000e+02,   1.09000000e+04,   1.90000000e+04,\n",
       "           5.00000000e+02,   4.93000000e+04],\n",
       "        [  0.00000000e+00,   9.00000000e+03,   3.34000000e+04,\n",
       "           0.00000000e+00,   1.50000000e+03,   3.39000000e+04,\n",
       "          -1.80000000e+03,   1.83000000e+04,   1.12000000e+04,\n",
       "           1.19000000e+04,   9.70000000e+04],\n",
       "        [  0.00000000e+00,   6.20000000e+03,  -3.00000000e+02,\n",
       "          -1.80000000e+03,   6.00000000e+02,   2.44000000e+04,\n",
       "           6.50000000e+03,   1.51000000e+04,   1.14000000e+04,\n",
       "           1.30000000e+03,   5.40000000e+04],\n",
       "        [  0.00000000e+00,   6.50000000e+03,   1.54000000e+04,\n",
       "           5.10000000e+03,   0.00000000e+00,   3.44000000e+04,\n",
       "           1.84000000e+04,   2.80000000e+04,   7.80000000e+03,\n",
       "           9.10000000e+03,   9.84000000e+04],\n",
       "        [  0.00000000e+00,   1.09000000e+04,   8.40000000e+03,\n",
       "           1.50000000e+03,   0.00000000e+00,   1.75000000e+04,\n",
       "           1.24000000e+04,   3.44000000e+04,   1.18000000e+04,\n",
       "           2.60000000e+03,   6.54000000e+04],\n",
       "        [  0.00000000e+00,   1.92000000e+04,   2.36000000e+04,\n",
       "           5.00000000e+03,   2.30000000e+03,   5.69000000e+04,\n",
       "           2.13000000e+04,   0.00000000e+00,   0.00000000e+00,\n",
       "           0.00000000e+00,   4.24900000e+05]], dtype=float32)"
      ]
     },
     "execution_count": 208,
     "metadata": {},
     "output_type": "execute_result"
    }
   ],
   "source": [
    "data.todense()"
   ]
  },
  {
   "cell_type": "code",
   "execution_count": 209,
   "metadata": {
    "collapsed": false
   },
   "outputs": [],
   "source": [
    "def readUsersTest(Recom):\n",
    "\tuTest = dict()\n",
    "\twith open(\"SVDBoltok.csv\", 'rb') as testFile:\n",
    "\t\ttestReader = csv.reader(testFile, delimiter=';')\n",
    "\t\ti=0\n",
    "\t\tfor row in testReader:\n",
    "\t\t\tuTest[int(row[0])] = list()\n",
    "\t\t\tRecom.append(row[0])\n",
    "\n",
    "\treturn uTest"
   ]
  },
  {
   "cell_type": "code",
   "execution_count": 210,
   "metadata": {
    "collapsed": true
   },
   "outputs": [],
   "source": [
    "def getMoviesSeen():\n",
    "\tmoviesSeen = dict()\n",
    "\twith open(\"SVDTrain.csv\", 'rb') as trainFile:\n",
    "\t\turmReader = csv.reader(trainFile, delimiter=';')\n",
    "\t\tfor row in urmReader:\n",
    "\t\t\ttry:\n",
    "\t\t\t\tmoviesSeen[int(row[0])].append(int(row[1]))\n",
    "\t\t\texcept:\n",
    "\t\t\t\tmoviesSeen[int(row[0])] = list()\n",
    "\t\t\t\tmoviesSeen[int(row[0])].append(int(row[1]))\n",
    "\n",
    "\treturn moviesSeen"
   ]
  },
  {
   "cell_type": "code",
   "execution_count": 211,
   "metadata": {
    "collapsed": false
   },
   "outputs": [],
   "source": [
    "import math as mt\n",
    "import csv\n",
    "from sparsesvd import sparsesvd\n",
    "\n",
    "def computeSVD(urm, K):\n",
    "\tU, s, Vt = sparsesvd(urm, K)\n",
    "\n",
    "\tdim = (len(s), len(s))\n",
    "\tS = np.zeros(dim, dtype=np.float32)\n",
    "\tfor i in range(0, len(s)):\n",
    "\t\tS[i,i] = mt.sqrt(s[i])\n",
    "\n",
    "\tU = csc_matrix(np.transpose(U), dtype=np.float32)\n",
    "\tS = csc_matrix(S, dtype=np.float32)\n",
    "\tVt = csc_matrix(Vt, dtype=np.float32)\n",
    "\n",
    "\treturn U, S, Vt\t"
   ]
  },
  {
   "cell_type": "code",
   "execution_count": 220,
   "metadata": {
    "collapsed": false
   },
   "outputs": [],
   "source": [
    "from scipy.sparse.linalg import * #used for matrix multiplication\n",
    "\n",
    "def computeEstimatedRatings(urm, U, S, Vt, uTest, moviesSeen, K, test, est):\n",
    "\trightTerm = S*Vt \n",
    "\n",
    "\testimatedRatings = np.zeros(shape=(MAX_BID, MAX_TID), dtype=np.float16)\n",
    "\tfor userTest in uTest:\n",
    "\t\tprod = U[userTest, :]*rightTerm\n",
    "\n",
    "\t\t#we convert the vector to dense format in order to get the indices of the movies with the best estimated ratings \n",
    "\t\testimatedRatings[userTest, :] = prod.todense()\n",
    "\t\trecom = (-estimatedRatings[userTest, :]).argsort()[:250]\n",
    "\t\test = (-estimatedRatings[userTest, :])\n",
    "\t\tprint(est)\n",
    "\t\tfor r in recom:\n",
    "\t\t\tif r not in moviesSeen[userTest]:\n",
    "\t\t\t\tuTest[userTest].append(r)\n",
    "\n",
    "\treturn uTest"
   ]
  },
  {
   "cell_type": "code",
   "execution_count": 221,
   "metadata": {
    "collapsed": false,
    "scrolled": true
   },
   "outputs": [],
   "source": [
    "def main():\n",
    "    K = 90\n",
    "    urm = readUrm()\n",
    "    U, S, Vt = computeSVD(data, K)\n",
    "    uTest = readUsersTest(Recom)\n",
    "    moviesSeen = getMoviesSeen()\n",
    "    uTest = computeEstimatedRatings(urm, U, S, Vt, uTest, moviesSeen, K, True, Est)\n",
    "    print(Est)\n",
    "    for key in uTest.keys():\n",
    "        \n",
    "        print(key)"
   ]
  },
  {
   "cell_type": "code",
   "execution_count": 222,
   "metadata": {
    "collapsed": false
   },
   "outputs": [
    {
     "name": "stdout",
     "output_type": "stream",
     "text": [
      "[ -0.         -6.8515625  27.625      24.171875  -15.859375  -43.21875\n",
      " -14.3671875 -12.609375  -40.28125   -11.1171875 -37.25     ]\n",
      "[ -0.         -78.4375      -7.22265625   2.42773438  -6.265625   -42.5625\n",
      "   9.7109375  -35.3125     -43.3125      -7.8125      -7.4453125 ]\n",
      "[ -0.00000000e+00  -2.64648438e-01   2.19970703e-01  -1.43281250e+01\n",
      "   7.42578125e+00  -6.07812500e+01  -5.91875000e+01   1.04500000e+02\n",
      "   3.37812500e+01   6.75625000e+01  -3.37000000e+02]\n",
      "[  -0.         17.359375  -43.6875    -10.046875   17.234375   12.609375\n",
      "   14.6875    -32.96875   -21.296875   30.703125 -130.375   ]\n",
      "0\n",
      "27\n",
      "21\n",
      "30\n",
      "5\n"
     ]
    }
   ],
   "source": [
    "main()"
   ]
  },
  {
   "cell_type": "code",
   "execution_count": null,
   "metadata": {
    "collapsed": true
   },
   "outputs": [],
   "source": []
  },
  {
   "cell_type": "code",
   "execution_count": null,
   "metadata": {
    "collapsed": true
   },
   "outputs": [],
   "source": []
  },
  {
   "cell_type": "code",
   "execution_count": null,
   "metadata": {
    "collapsed": true
   },
   "outputs": [],
   "source": []
  }
 ],
 "metadata": {
  "kernelspec": {
   "display_name": "Python 2",
   "language": "python",
   "name": "python2"
  },
  "language_info": {
   "codemirror_mode": {
    "name": "ipython",
    "version": 2
   },
   "file_extension": ".py",
   "mimetype": "text/x-python",
   "name": "python",
   "nbconvert_exporter": "python",
   "pygments_lexer": "ipython2",
   "version": "2.7.11"
  }
 },
 "nbformat": 4,
 "nbformat_minor": 0
}
